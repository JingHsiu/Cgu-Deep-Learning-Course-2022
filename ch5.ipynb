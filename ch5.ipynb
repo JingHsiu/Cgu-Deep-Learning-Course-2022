{
 "cells": [
  {
   "cell_type": "markdown",
   "metadata": {
    "colab_type": "text"
   },
   "source": [
    "This is a companion notebook for the book [Deep Learning with Python, Second Edition](https://www.manning.com/books/deep-learning-with-python-second-edition?a_aid=keras&a_bid=76564dff). For readability, it only contains runnable code blocks and section titles, and omits everything else in the book: text paragraphs, figures, and pseudocode.\n",
    "\n",
    "**If you want to be able to follow what's going on, I recommend reading the notebook side by side with your copy of the book.**\n",
    "\n",
    "This notebook was generated for TensorFlow 2.6."
   ]
  },
  {
   "cell_type": "markdown",
   "metadata": {
    "colab_type": "text"
   },
   "source": [
    "# Fundamentals of machine learning"
   ]
  },
  {
   "cell_type": "markdown",
   "metadata": {
    "colab_type": "text"
   },
   "source": [
    "## Generalization: The goal of machine learning"
   ]
  },
  {
   "cell_type": "markdown",
   "metadata": {
    "colab_type": "text"
   },
   "source": [
    "### Underfitting and overfitting"
   ]
  },
  {
   "cell_type": "markdown",
   "metadata": {
    "colab_type": "text"
   },
   "source": [
    "#### Noisy training data"
   ]
  },
  {
   "cell_type": "markdown",
   "metadata": {
    "colab_type": "text"
   },
   "source": [
    "#### Ambiguous features"
   ]
  },
  {
   "cell_type": "markdown",
   "metadata": {
    "colab_type": "text"
   },
   "source": [
    "#### Rare features and spurious correlations"
   ]
  },
  {
   "cell_type": "markdown",
   "metadata": {
    "colab_type": "text"
   },
   "source": [
    "**Adding white-noise channels or all-zeros channels to MNIST**"
   ]
  },
  {
   "cell_type": "code",
   "execution_count": 1,
   "metadata": {
    "colab_type": "code"
   },
   "outputs": [],
   "source": [
    "from tensorflow.keras.datasets import mnist\n",
    "import numpy as np\n",
    "\n",
    "(train_images, train_labels), _ = mnist.load_data()\n",
    "train_images = train_images.reshape((60000, 28 * 28))\n",
    "train_images = train_images.astype(\"float32\") / 255\n",
    "\n",
    "train_images_with_noise_channels = np.concatenate(\n",
    "    [train_images, np.random.random((len(train_images), 784))], axis=1)\n",
    "\n",
    "train_images_with_zeros_channels = np.concatenate(\n",
    "    [train_images, np.zeros((len(train_images), 784))], axis=1)"
   ]
  },
  {
   "cell_type": "code",
   "execution_count": 3,
   "metadata": {},
   "outputs": [
    {
     "data": {
      "text/plain": [
       "array([[0.        , 0.        , 0.        , ..., 0.58546278, 0.26952736,\n",
       "        0.44829916],\n",
       "       [0.        , 0.        , 0.        , ..., 0.81327424, 0.54468399,\n",
       "        0.61553821],\n",
       "       [0.        , 0.        , 0.        , ..., 0.16666444, 0.16489991,\n",
       "        0.49421795],\n",
       "       ...,\n",
       "       [0.        , 0.        , 0.        , ..., 0.69676503, 0.74782574,\n",
       "        0.97172459],\n",
       "       [0.        , 0.        , 0.        , ..., 0.4254507 , 0.45584996,\n",
       "        0.23673781],\n",
       "       [0.        , 0.        , 0.        , ..., 0.84087218, 0.90870294,\n",
       "        0.73269994]])"
      ]
     },
     "execution_count": 3,
     "metadata": {},
     "output_type": "execute_result"
    }
   ],
   "source": [
    "train_images_with_noise_channels"
   ]
  },
  {
   "cell_type": "code",
   "execution_count": 4,
   "metadata": {},
   "outputs": [
    {
     "data": {
      "text/plain": [
       "array([[0., 0., 0., ..., 0., 0., 0.],\n",
       "       [0., 0., 0., ..., 0., 0., 0.],\n",
       "       [0., 0., 0., ..., 0., 0., 0.],\n",
       "       ...,\n",
       "       [0., 0., 0., ..., 0., 0., 0.],\n",
       "       [0., 0., 0., ..., 0., 0., 0.],\n",
       "       [0., 0., 0., ..., 0., 0., 0.]])"
      ]
     },
     "execution_count": 4,
     "metadata": {},
     "output_type": "execute_result"
    }
   ],
   "source": [
    "train_images_with_zeros_channels"
   ]
  },
  {
   "cell_type": "markdown",
   "metadata": {
    "colab_type": "text"
   },
   "source": [
    "**Training the same model on MNIST data with noise channels or all-zero channels**"
   ]
  },
  {
   "cell_type": "code",
   "execution_count": 2,
   "metadata": {
    "colab_type": "code"
   },
   "outputs": [
    {
     "name": "stderr",
     "output_type": "stream",
     "text": [
      "2022-10-17 10:15:04.955982: I tensorflow/core/platform/cpu_feature_guard.cc:193] This TensorFlow binary is optimized with oneAPI Deep Neural Network Library (oneDNN) to use the following CPU instructions in performance-critical operations:  SSE4.1 SSE4.2 AVX AVX2 FMA\n",
      "To enable them in other operations, rebuild TensorFlow with the appropriate compiler flags.\n"
     ]
    },
    {
     "name": "stdout",
     "output_type": "stream",
     "text": [
      "Epoch 1/10\n",
      "375/375 [==============================] - 5s 11ms/step - loss: 0.6247 - accuracy: 0.8115 - val_loss: 0.2908 - val_accuracy: 0.9093\n",
      "Epoch 2/10\n",
      "375/375 [==============================] - 3s 8ms/step - loss: 0.2418 - accuracy: 0.9255 - val_loss: 0.2213 - val_accuracy: 0.9294\n",
      "Epoch 3/10\n",
      "375/375 [==============================] - 3s 9ms/step - loss: 0.1551 - accuracy: 0.9514 - val_loss: 0.1417 - val_accuracy: 0.9580\n",
      "Epoch 4/10\n",
      "375/375 [==============================] - 3s 9ms/step - loss: 0.1124 - accuracy: 0.9642 - val_loss: 0.1305 - val_accuracy: 0.9623\n",
      "Epoch 5/10\n",
      "375/375 [==============================] - 3s 9ms/step - loss: 0.0811 - accuracy: 0.9740 - val_loss: 0.1238 - val_accuracy: 0.9638\n",
      "Epoch 6/10\n",
      "375/375 [==============================] - 4s 10ms/step - loss: 0.0608 - accuracy: 0.9798 - val_loss: 0.1359 - val_accuracy: 0.9629\n",
      "Epoch 7/10\n",
      "375/375 [==============================] - 4s 10ms/step - loss: 0.0467 - accuracy: 0.9845 - val_loss: 0.1227 - val_accuracy: 0.9673\n",
      "Epoch 8/10\n",
      "375/375 [==============================] - 4s 11ms/step - loss: 0.0340 - accuracy: 0.9889 - val_loss: 0.1271 - val_accuracy: 0.9688\n",
      "Epoch 9/10\n",
      "375/375 [==============================] - 4s 11ms/step - loss: 0.0258 - accuracy: 0.9917 - val_loss: 0.1333 - val_accuracy: 0.9653\n",
      "Epoch 10/10\n",
      "375/375 [==============================] - 4s 12ms/step - loss: 0.0212 - accuracy: 0.9933 - val_loss: 0.1475 - val_accuracy: 0.9661\n",
      "Epoch 1/10\n",
      "375/375 [==============================] - 5s 12ms/step - loss: 0.2904 - accuracy: 0.9168 - val_loss: 0.1466 - val_accuracy: 0.9576\n",
      "Epoch 2/10\n",
      "375/375 [==============================] - 4s 11ms/step - loss: 0.1201 - accuracy: 0.9641 - val_loss: 0.1023 - val_accuracy: 0.9695\n",
      "Epoch 3/10\n",
      "375/375 [==============================] - 4s 12ms/step - loss: 0.0790 - accuracy: 0.9767 - val_loss: 0.0976 - val_accuracy: 0.9709\n",
      "Epoch 4/10\n",
      "375/375 [==============================] - 5s 12ms/step - loss: 0.0573 - accuracy: 0.9829 - val_loss: 0.0878 - val_accuracy: 0.9733\n",
      "Epoch 5/10\n",
      "375/375 [==============================] - 4s 12ms/step - loss: 0.0420 - accuracy: 0.9880 - val_loss: 0.0842 - val_accuracy: 0.9771\n",
      "Epoch 6/10\n",
      "375/375 [==============================] - 4s 12ms/step - loss: 0.0325 - accuracy: 0.9904 - val_loss: 0.0814 - val_accuracy: 0.9768\n",
      "Epoch 7/10\n",
      "375/375 [==============================] - 4s 11ms/step - loss: 0.0241 - accuracy: 0.9928 - val_loss: 0.0846 - val_accuracy: 0.9775\n",
      "Epoch 8/10\n",
      "375/375 [==============================] - 4s 12ms/step - loss: 0.0188 - accuracy: 0.9945 - val_loss: 0.0811 - val_accuracy: 0.9782\n",
      "Epoch 9/10\n",
      "375/375 [==============================] - 5s 12ms/step - loss: 0.0144 - accuracy: 0.9959 - val_loss: 0.0906 - val_accuracy: 0.9768\n",
      "Epoch 10/10\n",
      "375/375 [==============================] - 5s 13ms/step - loss: 0.0107 - accuracy: 0.9971 - val_loss: 0.0961 - val_accuracy: 0.9761\n"
     ]
    }
   ],
   "source": [
    "from tensorflow import keras\n",
    "from tensorflow.keras import layers\n",
    "\n",
    "def get_model():\n",
    "    model = keras.Sequential([\n",
    "        layers.Dense(512, activation=\"relu\"),\n",
    "        layers.Dense(10, activation=\"softmax\")\n",
    "    ])\n",
    "    model.compile(optimizer=\"rmsprop\",\n",
    "                  loss=\"sparse_categorical_crossentropy\",\n",
    "                  metrics=[\"accuracy\"])\n",
    "    return model\n",
    "\n",
    "model = get_model()\n",
    "history_noise = model.fit(\n",
    "    train_images_with_noise_channels, train_labels,\n",
    "    epochs=10,\n",
    "    batch_size=128,\n",
    "    validation_split=0.2)\n",
    "\n",
    "model = get_model()\n",
    "history_zeros = model.fit(\n",
    "    train_images_with_zeros_channels, train_labels,\n",
    "    epochs=10,\n",
    "    batch_size=128,\n",
    "    validation_split=0.2)"
   ]
  },
  {
   "cell_type": "markdown",
   "metadata": {
    "colab_type": "text"
   },
   "source": [
    "**Plotting a validation accuracy comparison**"
   ]
  },
  {
   "cell_type": "code",
   "execution_count": 5,
   "metadata": {
    "colab_type": "code"
   },
   "outputs": [
    {
     "data": {
      "text/plain": [
       "<matplotlib.legend.Legend at 0x7fb97349a3a0>"
      ]
     },
     "execution_count": 5,
     "metadata": {},
     "output_type": "execute_result"
    },
    {
     "data": {
      "image/png": "[encoded data removed]",
      "text/plain": [
       "<Figure size 640x480 with 1 Axes>"
      ]
     },
     "metadata": {},
     "output_type": "display_data"
    }
   ],
   "source": [
    "import matplotlib.pyplot as plt\n",
    "val_acc_noise = history_noise.history[\"val_accuracy\"]\n",
    "val_acc_zeros = history_zeros.history[\"val_accuracy\"]\n",
    "epochs = range(1, 11)\n",
    "plt.plot(epochs, val_acc_noise, \"b-\",\n",
    "         label=\"Validation accuracy with noise channels\")\n",
    "plt.plot(epochs, val_acc_zeros, \"b--\",\n",
    "         label=\"Validation accuracy with zeros channels\")\n",
    "plt.title(\"Effect of noise channels on validation accuracy\")\n",
    "plt.xlabel(\"Epochs\")\n",
    "plt.ylabel(\"Accuracy\")\n",
    "plt.legend()"
   ]
  },
  {
   "cell_type": "markdown",
   "metadata": {
    "colab_type": "text"
   },
   "source": [
    "### The nature of generalization in deep learning"
   ]
  },
  {
   "cell_type": "markdown",
   "metadata": {
    "colab_type": "text"
   },
   "source": [
    "**Fitting a MNIST model with randomly shuffled labels**"
   ]
  },
  {
   "cell_type": "code",
   "execution_count": 6,
   "metadata": {
    "colab_type": "code"
   },
   "outputs": [
    {
     "name": "stdout",
     "output_type": "stream",
     "text": [
      "Epoch 1/100\n",
      "375/375 [==============================] - 2s 5ms/step - loss: 2.3181 - accuracy: 0.1057 - val_loss: 2.3070 - val_accuracy: 0.1034\n",
      "Epoch 2/100\n",
      "375/375 [==============================] - 2s 4ms/step - loss: 2.2989 - accuracy: 0.1187 - val_loss: 2.3118 - val_accuracy: 0.1037\n",
      "Epoch 3/100\n",
      "375/375 [==============================] - 2s 4ms/step - loss: 2.2894 - accuracy: 0.1298 - val_loss: 2.3191 - val_accuracy: 0.1008\n",
      "Epoch 4/100\n",
      "375/375 [==============================] - 2s 5ms/step - loss: 2.2756 - accuracy: 0.1420 - val_loss: 2.3294 - val_accuracy: 0.1037\n",
      "Epoch 5/100\n",
      "375/375 [==============================] - 2s 5ms/step - loss: 2.2569 - accuracy: 0.1562 - val_loss: 2.3358 - val_accuracy: 0.1052\n",
      "Epoch 6/100\n",
      "375/375 [==============================] - 2s 5ms/step - loss: 2.2359 - accuracy: 0.1733 - val_loss: 2.3499 - val_accuracy: 0.1010\n",
      "Epoch 7/100\n",
      "375/375 [==============================] - 2s 5ms/step - loss: 2.2107 - accuracy: 0.1862 - val_loss: 2.3716 - val_accuracy: 0.1025\n",
      "Epoch 8/100\n",
      "375/375 [==============================] - 2s 5ms/step - loss: 2.1837 - accuracy: 0.2018 - val_loss: 2.3879 - val_accuracy: 0.1047\n",
      "Epoch 9/100\n",
      "375/375 [==============================] - 2s 5ms/step - loss: 2.1548 - accuracy: 0.2192 - val_loss: 2.4057 - val_accuracy: 0.1021\n",
      "Epoch 10/100\n",
      "375/375 [==============================] - 2s 6ms/step - loss: 2.1230 - accuracy: 0.2333 - val_loss: 2.4286 - val_accuracy: 0.1022\n",
      "Epoch 11/100\n",
      "375/375 [==============================] - 2s 6ms/step - loss: 2.0896 - accuracy: 0.2510 - val_loss: 2.4545 - val_accuracy: 0.1023\n",
      "Epoch 12/100\n",
      "375/375 [==============================] - 2s 6ms/step - loss: 2.0554 - accuracy: 0.2664 - val_loss: 2.4894 - val_accuracy: 0.1045\n",
      "Epoch 13/100\n",
      "375/375 [==============================] - 2s 6ms/step - loss: 2.0231 - accuracy: 0.2814 - val_loss: 2.5031 - val_accuracy: 0.0994\n",
      "Epoch 14/100\n",
      "375/375 [==============================] - 2s 6ms/step - loss: 1.9884 - accuracy: 0.2941 - val_loss: 2.5352 - val_accuracy: 0.1010\n",
      "Epoch 15/100\n",
      "375/375 [==============================] - 2s 6ms/step - loss: 1.9549 - accuracy: 0.3078 - val_loss: 2.5739 - val_accuracy: 0.1023\n",
      "Epoch 16/100\n",
      "375/375 [==============================] - 2s 6ms/step - loss: 1.9218 - accuracy: 0.3234 - val_loss: 2.5884 - val_accuracy: 0.1044\n",
      "Epoch 17/100\n",
      "375/375 [==============================] - 2s 6ms/step - loss: 1.8882 - accuracy: 0.3359 - val_loss: 2.6244 - val_accuracy: 0.1053\n",
      "Epoch 18/100\n",
      "375/375 [==============================] - 2s 6ms/step - loss: 1.8563 - accuracy: 0.3498 - val_loss: 2.6561 - val_accuracy: 0.1011\n",
      "Epoch 19/100\n",
      "375/375 [==============================] - 2s 6ms/step - loss: 1.8247 - accuracy: 0.3610 - val_loss: 2.6966 - val_accuracy: 0.1012\n",
      "Epoch 20/100\n",
      "375/375 [==============================] - 2s 6ms/step - loss: 1.7908 - accuracy: 0.3753 - val_loss: 2.7256 - val_accuracy: 0.1024\n",
      "Epoch 21/100\n",
      "375/375 [==============================] - 2s 6ms/step - loss: 1.7607 - accuracy: 0.3878 - val_loss: 2.7755 - val_accuracy: 0.1011\n",
      "Epoch 22/100\n",
      "375/375 [==============================] - 3s 7ms/step - loss: 1.7306 - accuracy: 0.3990 - val_loss: 2.8045 - val_accuracy: 0.1022\n",
      "Epoch 23/100\n",
      "375/375 [==============================] - 3s 7ms/step - loss: 1.7000 - accuracy: 0.4096 - val_loss: 2.8576 - val_accuracy: 0.0994\n",
      "Epoch 24/100\n",
      "375/375 [==============================] - 3s 7ms/step - loss: 1.6721 - accuracy: 0.4196 - val_loss: 2.8918 - val_accuracy: 0.0975\n",
      "Epoch 25/100\n",
      "375/375 [==============================] - 2s 7ms/step - loss: 1.6455 - accuracy: 0.4346 - val_loss: 2.9244 - val_accuracy: 0.1016\n",
      "Epoch 26/100\n",
      "375/375 [==============================] - 3s 7ms/step - loss: 1.6148 - accuracy: 0.4443 - val_loss: 2.9576 - val_accuracy: 0.1002\n",
      "Epoch 27/100\n",
      "375/375 [==============================] - 3s 7ms/step - loss: 1.5879 - accuracy: 0.4526 - val_loss: 2.9958 - val_accuracy: 0.1013\n",
      "Epoch 28/100\n",
      "375/375 [==============================] - 3s 7ms/step - loss: 1.5603 - accuracy: 0.4620 - val_loss: 3.0534 - val_accuracy: 0.1019\n",
      "Epoch 29/100\n",
      "375/375 [==============================] - 3s 7ms/step - loss: 1.5367 - accuracy: 0.4715 - val_loss: 3.0886 - val_accuracy: 0.0989\n",
      "Epoch 30/100\n",
      "375/375 [==============================] - 3s 7ms/step - loss: 1.5103 - accuracy: 0.4816 - val_loss: 3.1238 - val_accuracy: 0.1009\n",
      "Epoch 31/100\n",
      "375/375 [==============================] - 3s 7ms/step - loss: 1.4858 - accuracy: 0.4929 - val_loss: 3.1639 - val_accuracy: 0.1031\n",
      "Epoch 32/100\n",
      "375/375 [==============================] - 3s 7ms/step - loss: 1.4614 - accuracy: 0.5000 - val_loss: 3.2276 - val_accuracy: 0.1023\n",
      "Epoch 33/100\n",
      "375/375 [==============================] - 3s 7ms/step - loss: 1.4338 - accuracy: 0.5098 - val_loss: 3.2766 - val_accuracy: 0.1028\n",
      "Epoch 34/100\n",
      "375/375 [==============================] - 3s 7ms/step - loss: 1.4103 - accuracy: 0.5213 - val_loss: 3.2858 - val_accuracy: 0.1053\n",
      "Epoch 35/100\n",
      "375/375 [==============================] - 4s 10ms/step - loss: 1.3901 - accuracy: 0.5250 - val_loss: 3.3557 - val_accuracy: 0.1036\n",
      "Epoch 36/100\n",
      "375/375 [==============================] - 3s 7ms/step - loss: 1.3663 - accuracy: 0.5347 - val_loss: 3.3911 - val_accuracy: 0.1036\n",
      "Epoch 37/100\n",
      "375/375 [==============================] - 3s 7ms/step - loss: 1.3453 - accuracy: 0.5425 - val_loss: 3.4484 - val_accuracy: 0.0985\n",
      "Epoch 38/100\n",
      "375/375 [==============================] - 3s 7ms/step - loss: 1.3235 - accuracy: 0.5501 - val_loss: 3.4890 - val_accuracy: 0.1017\n",
      "Epoch 39/100\n",
      "375/375 [==============================] - 3s 7ms/step - loss: 1.3027 - accuracy: 0.5543 - val_loss: 3.5241 - val_accuracy: 0.0982\n",
      "Epoch 40/100\n",
      "375/375 [==============================] - 3s 7ms/step - loss: 1.2828 - accuracy: 0.5658 - val_loss: 3.6047 - val_accuracy: 0.1025\n",
      "Epoch 41/100\n",
      "375/375 [==============================] - 3s 7ms/step - loss: 1.2619 - accuracy: 0.5746 - val_loss: 3.6233 - val_accuracy: 0.0993\n",
      "Epoch 42/100\n",
      "375/375 [==============================] - 3s 8ms/step - loss: 1.2421 - accuracy: 0.5788 - val_loss: 3.6848 - val_accuracy: 0.0993\n",
      "Epoch 43/100\n",
      "375/375 [==============================] - 3s 7ms/step - loss: 1.2223 - accuracy: 0.5893 - val_loss: 3.7239 - val_accuracy: 0.1031\n",
      "Epoch 44/100\n",
      "375/375 [==============================] - 3s 7ms/step - loss: 1.2034 - accuracy: 0.5939 - val_loss: 3.7782 - val_accuracy: 0.1015\n",
      "Epoch 45/100\n",
      "375/375 [==============================] - 3s 8ms/step - loss: 1.1839 - accuracy: 0.5992 - val_loss: 3.8566 - val_accuracy: 0.1018\n",
      "Epoch 46/100\n",
      "375/375 [==============================] - 3s 8ms/step - loss: 1.1653 - accuracy: 0.6079 - val_loss: 3.9161 - val_accuracy: 0.1013\n",
      "Epoch 47/100\n",
      "375/375 [==============================] - 3s 7ms/step - loss: 1.1487 - accuracy: 0.6121 - val_loss: 3.9692 - val_accuracy: 0.1005\n",
      "Epoch 48/100\n",
      "375/375 [==============================] - 3s 7ms/step - loss: 1.1306 - accuracy: 0.6188 - val_loss: 4.0184 - val_accuracy: 0.0997\n",
      "Epoch 49/100\n",
      "375/375 [==============================] - 3s 7ms/step - loss: 1.1134 - accuracy: 0.6265 - val_loss: 4.0506 - val_accuracy: 0.1027\n",
      "Epoch 50/100\n",
      "375/375 [==============================] - 3s 7ms/step - loss: 1.0959 - accuracy: 0.6311 - val_loss: 4.0771 - val_accuracy: 0.1000\n",
      "Epoch 51/100\n",
      "375/375 [==============================] - 3s 8ms/step - loss: 1.0806 - accuracy: 0.6340 - val_loss: 4.1584 - val_accuracy: 0.1013\n",
      "Epoch 52/100\n",
      "375/375 [==============================] - 3s 7ms/step - loss: 1.0626 - accuracy: 0.6412 - val_loss: 4.2280 - val_accuracy: 0.0970\n",
      "Epoch 53/100\n",
      "375/375 [==============================] - 3s 7ms/step - loss: 1.0475 - accuracy: 0.6491 - val_loss: 4.2396 - val_accuracy: 0.1007\n",
      "Epoch 54/100\n",
      "375/375 [==============================] - 3s 7ms/step - loss: 1.0319 - accuracy: 0.6527 - val_loss: 4.3253 - val_accuracy: 0.1028\n",
      "Epoch 55/100\n",
      "375/375 [==============================] - 3s 9ms/step - loss: 1.0161 - accuracy: 0.6578 - val_loss: 4.3775 - val_accuracy: 0.1010\n",
      "Epoch 56/100\n",
      "375/375 [==============================] - 3s 8ms/step - loss: 1.0012 - accuracy: 0.6643 - val_loss: 4.4264 - val_accuracy: 0.1009\n",
      "Epoch 57/100\n",
      "375/375 [==============================] - 3s 9ms/step - loss: 0.9862 - accuracy: 0.6698 - val_loss: 4.4576 - val_accuracy: 0.0964\n",
      "Epoch 58/100\n",
      "375/375 [==============================] - 3s 8ms/step - loss: 0.9714 - accuracy: 0.6747 - val_loss: 4.5169 - val_accuracy: 0.1042\n",
      "Epoch 59/100\n",
      "375/375 [==============================] - 3s 8ms/step - loss: 0.9558 - accuracy: 0.6802 - val_loss: 4.6079 - val_accuracy: 0.0987\n",
      "Epoch 60/100\n",
      "375/375 [==============================] - 3s 7ms/step - loss: 0.9437 - accuracy: 0.6852 - val_loss: 4.6580 - val_accuracy: 0.1013\n",
      "Epoch 61/100\n",
      "375/375 [==============================] - 3s 7ms/step - loss: 0.9291 - accuracy: 0.6903 - val_loss: 4.7338 - val_accuracy: 0.1011\n",
      "Epoch 62/100\n",
      "375/375 [==============================] - 3s 8ms/step - loss: 0.9165 - accuracy: 0.6929 - val_loss: 4.7950 - val_accuracy: 0.1001\n",
      "Epoch 63/100\n",
      "375/375 [==============================] - 3s 7ms/step - loss: 0.9033 - accuracy: 0.6998 - val_loss: 4.8009 - val_accuracy: 0.1020\n",
      "Epoch 64/100\n",
      "375/375 [==============================] - 3s 7ms/step - loss: 0.8875 - accuracy: 0.7035 - val_loss: 4.9132 - val_accuracy: 0.0968\n",
      "Epoch 65/100\n",
      "375/375 [==============================] - 3s 7ms/step - loss: 0.8765 - accuracy: 0.7094 - val_loss: 4.9630 - val_accuracy: 0.0979\n",
      "Epoch 66/100\n",
      "375/375 [==============================] - 3s 8ms/step - loss: 0.8632 - accuracy: 0.7136 - val_loss: 4.9862 - val_accuracy: 0.0981\n",
      "Epoch 67/100\n",
      "375/375 [==============================] - 3s 8ms/step - loss: 0.8507 - accuracy: 0.7174 - val_loss: 5.0692 - val_accuracy: 0.1006\n",
      "Epoch 68/100\n",
      "375/375 [==============================] - 3s 8ms/step - loss: 0.8371 - accuracy: 0.7206 - val_loss: 5.1108 - val_accuracy: 0.0983\n",
      "Epoch 69/100\n",
      "375/375 [==============================] - 3s 8ms/step - loss: 0.8245 - accuracy: 0.7273 - val_loss: 5.1526 - val_accuracy: 0.1012\n",
      "Epoch 70/100\n",
      "375/375 [==============================] - 3s 7ms/step - loss: 0.8133 - accuracy: 0.7315 - val_loss: 5.2471 - val_accuracy: 0.1006\n",
      "Epoch 71/100\n",
      "375/375 [==============================] - 3s 7ms/step - loss: 0.8035 - accuracy: 0.7339 - val_loss: 5.2902 - val_accuracy: 0.1007\n",
      "Epoch 72/100\n",
      "375/375 [==============================] - 3s 7ms/step - loss: 0.7906 - accuracy: 0.7368 - val_loss: 5.3619 - val_accuracy: 0.1024\n",
      "Epoch 73/100\n",
      "375/375 [==============================] - 3s 7ms/step - loss: 0.7790 - accuracy: 0.7414 - val_loss: 5.3987 - val_accuracy: 0.1009\n",
      "Epoch 74/100\n",
      "375/375 [==============================] - 3s 8ms/step - loss: 0.7655 - accuracy: 0.7475 - val_loss: 5.5126 - val_accuracy: 0.1004\n",
      "Epoch 75/100\n",
      "375/375 [==============================] - 3s 7ms/step - loss: 0.7566 - accuracy: 0.7525 - val_loss: 5.5299 - val_accuracy: 0.1019\n",
      "Epoch 76/100\n",
      "375/375 [==============================] - 3s 7ms/step - loss: 0.7467 - accuracy: 0.7548 - val_loss: 5.5601 - val_accuracy: 0.1036\n",
      "Epoch 77/100\n",
      "375/375 [==============================] - 3s 8ms/step - loss: 0.7389 - accuracy: 0.7566 - val_loss: 5.6608 - val_accuracy: 0.0994\n",
      "Epoch 78/100\n",
      "375/375 [==============================] - 3s 7ms/step - loss: 0.7261 - accuracy: 0.7616 - val_loss: 5.6887 - val_accuracy: 0.0997\n",
      "Epoch 79/100\n",
      "375/375 [==============================] - 3s 7ms/step - loss: 0.7162 - accuracy: 0.7648 - val_loss: 5.7726 - val_accuracy: 0.1028\n",
      "Epoch 80/100\n",
      "375/375 [==============================] - 4s 10ms/step - loss: 0.7062 - accuracy: 0.7686 - val_loss: 5.8466 - val_accuracy: 0.1004\n",
      "Epoch 81/100\n",
      "375/375 [==============================] - 3s 9ms/step - loss: 0.6967 - accuracy: 0.7726 - val_loss: 5.8880 - val_accuracy: 0.1013\n",
      "Epoch 82/100\n",
      "375/375 [==============================] - 3s 9ms/step - loss: 0.6853 - accuracy: 0.7756 - val_loss: 5.9264 - val_accuracy: 0.1017\n",
      "Epoch 83/100\n",
      "375/375 [==============================] - 3s 8ms/step - loss: 0.6765 - accuracy: 0.7795 - val_loss: 6.0345 - val_accuracy: 0.1024\n",
      "Epoch 84/100\n",
      "375/375 [==============================] - 3s 9ms/step - loss: 0.6689 - accuracy: 0.7798 - val_loss: 6.1096 - val_accuracy: 0.1014\n",
      "Epoch 85/100\n",
      "375/375 [==============================] - 3s 8ms/step - loss: 0.6578 - accuracy: 0.7837 - val_loss: 6.1244 - val_accuracy: 0.1001\n",
      "Epoch 86/100\n",
      "375/375 [==============================] - 3s 9ms/step - loss: 0.6490 - accuracy: 0.7866 - val_loss: 6.2140 - val_accuracy: 0.0996\n",
      "Epoch 87/100\n",
      "375/375 [==============================] - 3s 8ms/step - loss: 0.6417 - accuracy: 0.7899 - val_loss: 6.2336 - val_accuracy: 0.1031\n",
      "Epoch 88/100\n",
      "375/375 [==============================] - 3s 7ms/step - loss: 0.6301 - accuracy: 0.7958 - val_loss: 6.3176 - val_accuracy: 0.1024\n",
      "Epoch 89/100\n",
      "375/375 [==============================] - 3s 7ms/step - loss: 0.6218 - accuracy: 0.7982 - val_loss: 6.3840 - val_accuracy: 0.1007\n",
      "Epoch 90/100\n",
      "375/375 [==============================] - 3s 8ms/step - loss: 0.6128 - accuracy: 0.8004 - val_loss: 6.4652 - val_accuracy: 0.1002\n",
      "Epoch 91/100\n",
      "375/375 [==============================] - 3s 7ms/step - loss: 0.6059 - accuracy: 0.8044 - val_loss: 6.5710 - val_accuracy: 0.1024\n",
      "Epoch 92/100\n",
      "375/375 [==============================] - 3s 8ms/step - loss: 0.5987 - accuracy: 0.8051 - val_loss: 6.5868 - val_accuracy: 0.1002\n",
      "Epoch 93/100\n",
      "375/375 [==============================] - 3s 9ms/step - loss: 0.5884 - accuracy: 0.8114 - val_loss: 6.6994 - val_accuracy: 0.1012\n",
      "Epoch 94/100\n",
      "375/375 [==============================] - 4s 9ms/step - loss: 0.5805 - accuracy: 0.8108 - val_loss: 6.7410 - val_accuracy: 0.1009\n",
      "Epoch 95/100\n",
      "375/375 [==============================] - 3s 8ms/step - loss: 0.5742 - accuracy: 0.8140 - val_loss: 6.7842 - val_accuracy: 0.1029\n",
      "Epoch 96/100\n",
      "375/375 [==============================] - 3s 8ms/step - loss: 0.5664 - accuracy: 0.8160 - val_loss: 6.9128 - val_accuracy: 0.1006\n",
      "Epoch 97/100\n",
      "375/375 [==============================] - 3s 7ms/step - loss: 0.5603 - accuracy: 0.8189 - val_loss: 6.9179 - val_accuracy: 0.1020\n",
      "Epoch 98/100\n",
      "375/375 [==============================] - 3s 7ms/step - loss: 0.5499 - accuracy: 0.8232 - val_loss: 7.0092 - val_accuracy: 0.1018\n",
      "Epoch 99/100\n",
      "375/375 [==============================] - 3s 7ms/step - loss: 0.5444 - accuracy: 0.8235 - val_loss: 7.0447 - val_accuracy: 0.1012\n",
      "Epoch 100/100\n",
      "375/375 [==============================] - 3s 8ms/step - loss: 0.5364 - accuracy: 0.8282 - val_loss: 7.0987 - val_accuracy: 0.1003\n"
     ]
    },
    {
     "data": {
      "text/plain": [
       "<keras.callbacks.History at 0x7fb9c08df070>"
      ]
     },
     "execution_count": 6,
     "metadata": {},
     "output_type": "execute_result"
    }
   ],
   "source": [
    "(train_images, train_labels), _ = mnist.load_data()\n",
    "train_images = train_images.reshape((60000, 28 * 28))\n",
    "train_images = train_images.astype(\"float32\") / 255\n",
    "\n",
    "random_train_labels = train_labels[:]\n",
    "np.random.shuffle(random_train_labels)\n",
    "\n",
    "model = keras.Sequential([\n",
    "    layers.Dense(512, activation=\"relu\"),\n",
    "    layers.Dense(10, activation=\"softmax\")\n",
    "])\n",
    "model.compile(optimizer=\"rmsprop\",\n",
    "              loss=\"sparse_categorical_crossentropy\",\n",
    "              metrics=[\"accuracy\"])\n",
    "model.fit(train_images, random_train_labels,\n",
    "          epochs=100,\n",
    "          batch_size=128,\n",
    "          validation_split=0.2)"
   ]
  },
  {
   "cell_type": "markdown",
   "metadata": {
    "colab_type": "text"
   },
   "source": [
    "#### The manifold hypothesis"
   ]
  },
  {
   "cell_type": "markdown",
   "metadata": {
    "colab_type": "text"
   },
   "source": [
    "#### Interpolation as a source of generalization"
   ]
  },
  {
   "cell_type": "markdown",
   "metadata": {
    "colab_type": "text"
   },
   "source": [
    "#### Why deep learning works"
   ]
  },
  {
   "cell_type": "markdown",
   "metadata": {
    "colab_type": "text"
   },
   "source": [
    "#### Training data is paramount"
   ]
  },
  {
   "cell_type": "markdown",
   "metadata": {
    "colab_type": "text"
   },
   "source": [
    "## Evaluating machine-learning models"
   ]
  },
  {
   "cell_type": "markdown",
   "metadata": {
    "colab_type": "text"
   },
   "source": [
    "### Training, validation, and test sets"
   ]
  },
  {
   "cell_type": "markdown",
   "metadata": {
    "colab_type": "text"
   },
   "source": [
    "#### Simple hold-out validation"
   ]
  },
  {
   "cell_type": "markdown",
   "metadata": {
    "colab_type": "text"
   },
   "source": [
    "#### K-fold validation"
   ]
  },
  {
   "cell_type": "markdown",
   "metadata": {
    "colab_type": "text"
   },
   "source": [
    "#### Iterated K-fold validation with shuffling"
   ]
  },
  {
   "cell_type": "markdown",
   "metadata": {
    "colab_type": "text"
   },
   "source": [
    "### Beating a common-sense baseline"
   ]
  },
  {
   "cell_type": "markdown",
   "metadata": {
    "colab_type": "text"
   },
   "source": [
    "### Things to keep in mind about model evaluation"
   ]
  },
  {
   "cell_type": "markdown",
   "metadata": {
    "colab_type": "text"
   },
   "source": [
    "## Improving model fit"
   ]
  },
  {
   "cell_type": "markdown",
   "metadata": {
    "colab_type": "text"
   },
   "source": [
    "### Tuning key gradient descent parameters"
   ]
  },
  {
   "cell_type": "markdown",
   "metadata": {
    "colab_type": "text"
   },
   "source": [
    "**Training a MNIST model with an incorrectly high learning rate**"
   ]
  },
  {
   "cell_type": "code",
   "execution_count": 7,
   "metadata": {
    "colab_type": "code"
   },
   "outputs": [
    {
     "name": "stdout",
     "output_type": "stream",
     "text": [
      "Epoch 1/10\n",
      "375/375 [==============================] - 2s 5ms/step - loss: 781.6339 - accuracy: 0.3941 - val_loss: 2.6554 - val_accuracy: 0.2524\n",
      "Epoch 2/10\n",
      "375/375 [==============================] - 2s 5ms/step - loss: 4.2868 - accuracy: 0.3008 - val_loss: 2.0901 - val_accuracy: 0.3268\n",
      "Epoch 3/10\n",
      "375/375 [==============================] - 2s 6ms/step - loss: 3.0557 - accuracy: 0.3063 - val_loss: 2.3585 - val_accuracy: 0.2938\n",
      "Epoch 4/10\n",
      "375/375 [==============================] - 2s 6ms/step - loss: 2.7891 - accuracy: 0.3009 - val_loss: 2.1982 - val_accuracy: 0.2747\n",
      "Epoch 5/10\n",
      "375/375 [==============================] - 2s 6ms/step - loss: 2.7489 - accuracy: 0.2845 - val_loss: 2.8174 - val_accuracy: 0.3113\n",
      "Epoch 6/10\n",
      "375/375 [==============================] - 2s 6ms/step - loss: 2.6486 - accuracy: 0.2959 - val_loss: 3.8947 - val_accuracy: 0.3199\n",
      "Epoch 7/10\n",
      "375/375 [==============================] - 2s 7ms/step - loss: 2.8093 - accuracy: 0.3119 - val_loss: 2.0980 - val_accuracy: 0.3205\n",
      "Epoch 8/10\n",
      "375/375 [==============================] - 2s 6ms/step - loss: 2.4411 - accuracy: 0.3048 - val_loss: 3.7323 - val_accuracy: 0.3189\n",
      "Epoch 9/10\n",
      "375/375 [==============================] - 2s 6ms/step - loss: 2.6725 - accuracy: 0.3037 - val_loss: 2.5805 - val_accuracy: 0.3228\n",
      "Epoch 10/10\n",
      "375/375 [==============================] - 2s 7ms/step - loss: 2.6176 - accuracy: 0.3081 - val_loss: 2.7057 - val_accuracy: 0.3525\n"
     ]
    },
    {
     "data": {
      "text/plain": [
       "<keras.callbacks.History at 0x7fb973758e50>"
      ]
     },
     "execution_count": 7,
     "metadata": {},
     "output_type": "execute_result"
    }
   ],
   "source": [
    "(train_images, train_labels), _ = mnist.load_data()\n",
    "train_images = train_images.reshape((60000, 28 * 28))\n",
    "train_images = train_images.astype(\"float32\") / 255\n",
    "\n",
    "model = keras.Sequential([\n",
    "    layers.Dense(512, activation=\"relu\"),\n",
    "    layers.Dense(10, activation=\"softmax\")\n",
    "])\n",
    "model.compile(optimizer=keras.optimizers.RMSprop(1.),\n",
    "              loss=\"sparse_categorical_crossentropy\",\n",
    "              metrics=[\"accuracy\"])\n",
    "model.fit(train_images, train_labels,\n",
    "          epochs=10,\n",
    "          batch_size=128,\n",
    "          validation_split=0.2)"
   ]
  },
  {
   "cell_type": "markdown",
   "metadata": {
    "colab_type": "text"
   },
   "source": [
    "**The same model with a more appropriate learning rate**"
   ]
  },
  {
   "cell_type": "code",
   "execution_count": 8,
   "metadata": {
    "colab_type": "code"
   },
   "outputs": [
    {
     "name": "stdout",
     "output_type": "stream",
     "text": [
      "Epoch 1/10\n",
      "375/375 [==============================] - 3s 7ms/step - loss: 0.3654 - accuracy: 0.9130 - val_loss: 0.1361 - val_accuracy: 0.9608\n",
      "Epoch 2/10\n",
      "375/375 [==============================] - 2s 6ms/step - loss: 0.1427 - accuracy: 0.9639 - val_loss: 0.1620 - val_accuracy: 0.9628\n",
      "Epoch 3/10\n",
      "375/375 [==============================] - 3s 7ms/step - loss: 0.1176 - accuracy: 0.9724 - val_loss: 0.1688 - val_accuracy: 0.9701\n",
      "Epoch 4/10\n",
      "375/375 [==============================] - 3s 7ms/step - loss: 0.1008 - accuracy: 0.9782 - val_loss: 0.1736 - val_accuracy: 0.9727\n",
      "Epoch 5/10\n",
      "375/375 [==============================] - 3s 7ms/step - loss: 0.0898 - accuracy: 0.9817 - val_loss: 0.1970 - val_accuracy: 0.9711\n",
      "Epoch 6/10\n",
      "375/375 [==============================] - 3s 7ms/step - loss: 0.0801 - accuracy: 0.9838 - val_loss: 0.2926 - val_accuracy: 0.9576\n",
      "Epoch 7/10\n",
      "375/375 [==============================] - 3s 7ms/step - loss: 0.0743 - accuracy: 0.9863 - val_loss: 0.2381 - val_accuracy: 0.9741\n",
      "Epoch 8/10\n",
      "375/375 [==============================] - 3s 7ms/step - loss: 0.0661 - accuracy: 0.9883 - val_loss: 0.2648 - val_accuracy: 0.9743\n",
      "Epoch 9/10\n",
      "375/375 [==============================] - 3s 7ms/step - loss: 0.0653 - accuracy: 0.9887 - val_loss: 0.3023 - val_accuracy: 0.9722\n",
      "Epoch 10/10\n",
      "375/375 [==============================] - 3s 7ms/step - loss: 0.0606 - accuracy: 0.9896 - val_loss: 0.3420 - val_accuracy: 0.9707\n"
     ]
    },
    {
     "data": {
      "text/plain": [
       "<keras.callbacks.History at 0x7fb97388a160>"
      ]
     },
     "execution_count": 8,
     "metadata": {},
     "output_type": "execute_result"
    }
   ],
   "source": [
    "model = keras.Sequential([\n",
    "    layers.Dense(512, activation=\"relu\"),\n",
    "    layers.Dense(10, activation=\"softmax\")\n",
    "])\n",
    "model.compile(optimizer=keras.optimizers.RMSprop(1e-2),\n",
    "              loss=\"sparse_categorical_crossentropy\",\n",
    "              metrics=[\"accuracy\"])\n",
    "model.fit(train_images, train_labels,\n",
    "          epochs=10,\n",
    "          batch_size=128,\n",
    "          validation_split=0.2)"
   ]
  },
  {
   "cell_type": "markdown",
   "metadata": {
    "colab_type": "text"
   },
   "source": [
    "### Leveraging better architecture priors"
   ]
  },
  {
   "cell_type": "markdown",
   "metadata": {
    "colab_type": "text"
   },
   "source": [
    "### Increasing model capacity"
   ]
  },
  {
   "cell_type": "markdown",
   "metadata": {
    "colab_type": "text"
   },
   "source": [
    "**A simple logistic regression on MNIST**"
   ]
  },
  {
   "cell_type": "code",
   "execution_count": 9,
   "metadata": {
    "colab_type": "code"
   },
   "outputs": [
    {
     "name": "stdout",
     "output_type": "stream",
     "text": [
      "Epoch 1/20\n",
      "375/375 [==============================] - 1s 2ms/step - loss: 0.6718 - accuracy: 0.8353 - val_loss: 0.3584 - val_accuracy: 0.9013\n",
      "Epoch 2/20\n",
      "375/375 [==============================] - 1s 2ms/step - loss: 0.3504 - accuracy: 0.9039 - val_loss: 0.3058 - val_accuracy: 0.9147\n",
      "Epoch 3/20\n",
      "375/375 [==============================] - 1s 2ms/step - loss: 0.3150 - accuracy: 0.9121 - val_loss: 0.2890 - val_accuracy: 0.9195\n",
      "Epoch 4/20\n",
      "375/375 [==============================] - 1s 2ms/step - loss: 0.2993 - accuracy: 0.9167 - val_loss: 0.2803 - val_accuracy: 0.9225\n",
      "Epoch 5/20\n",
      "375/375 [==============================] - 1s 2ms/step - loss: 0.2892 - accuracy: 0.9197 - val_loss: 0.2761 - val_accuracy: 0.9229\n",
      "Epoch 6/20\n",
      "375/375 [==============================] - 1s 2ms/step - loss: 0.2829 - accuracy: 0.9211 - val_loss: 0.2708 - val_accuracy: 0.9256\n",
      "Epoch 7/20\n",
      "375/375 [==============================] - 1s 2ms/step - loss: 0.2779 - accuracy: 0.9229 - val_loss: 0.2679 - val_accuracy: 0.9256\n",
      "Epoch 8/20\n",
      "375/375 [==============================] - 1s 2ms/step - loss: 0.2743 - accuracy: 0.9235 - val_loss: 0.2685 - val_accuracy: 0.9268\n",
      "Epoch 9/20\n",
      "375/375 [==============================] - 1s 2ms/step - loss: 0.2713 - accuracy: 0.9244 - val_loss: 0.2665 - val_accuracy: 0.9275\n",
      "Epoch 10/20\n",
      "375/375 [==============================] - 1s 2ms/step - loss: 0.2689 - accuracy: 0.9257 - val_loss: 0.2632 - val_accuracy: 0.9275\n",
      "Epoch 11/20\n",
      "375/375 [==============================] - 1s 2ms/step - loss: 0.2668 - accuracy: 0.9258 - val_loss: 0.2636 - val_accuracy: 0.9285\n",
      "Epoch 12/20\n",
      "375/375 [==============================] - 1s 2ms/step - loss: 0.2647 - accuracy: 0.9274 - val_loss: 0.2621 - val_accuracy: 0.9289\n",
      "Epoch 13/20\n",
      "375/375 [==============================] - 1s 2ms/step - loss: 0.2631 - accuracy: 0.9275 - val_loss: 0.2628 - val_accuracy: 0.9289\n",
      "Epoch 14/20\n",
      "375/375 [==============================] - 1s 2ms/step - loss: 0.2617 - accuracy: 0.9277 - val_loss: 0.2618 - val_accuracy: 0.9305\n",
      "Epoch 15/20\n",
      "375/375 [==============================] - 1s 3ms/step - loss: 0.2603 - accuracy: 0.9285 - val_loss: 0.2616 - val_accuracy: 0.9288\n",
      "Epoch 16/20\n",
      "375/375 [==============================] - 1s 3ms/step - loss: 0.2591 - accuracy: 0.9291 - val_loss: 0.2615 - val_accuracy: 0.9309\n",
      "Epoch 17/20\n",
      "375/375 [==============================] - 1s 2ms/step - loss: 0.2583 - accuracy: 0.9304 - val_loss: 0.2613 - val_accuracy: 0.9301\n",
      "Epoch 18/20\n",
      "375/375 [==============================] - 1s 2ms/step - loss: 0.2572 - accuracy: 0.9299 - val_loss: 0.2604 - val_accuracy: 0.9311\n",
      "Epoch 19/20\n",
      "375/375 [==============================] - 1s 2ms/step - loss: 0.2566 - accuracy: 0.9304 - val_loss: 0.2605 - val_accuracy: 0.9303\n",
      "Epoch 20/20\n",
      "375/375 [==============================] - 1s 2ms/step - loss: 0.2557 - accuracy: 0.9300 - val_loss: 0.2608 - val_accuracy: 0.9302\n"
     ]
    }
   ],
   "source": [
    "model = keras.Sequential([layers.Dense(10, activation=\"softmax\")])\n",
    "model.compile(optimizer=\"rmsprop\",\n",
    "              loss=\"sparse_categorical_crossentropy\",\n",
    "              metrics=[\"accuracy\"])\n",
    "history_small_model = model.fit(\n",
    "    train_images, train_labels,\n",
    "    epochs=20,\n",
    "    batch_size=128,\n",
    "    validation_split=0.2)"
   ]
  },
  {
   "cell_type": "code",
   "execution_count": 10,
   "metadata": {
    "colab_type": "code"
   },
   "outputs": [
    {
     "data": {
      "text/plain": [
       "<matplotlib.legend.Legend at 0x7fb981e130d0>"
      ]
     },
     "execution_count": 10,
     "metadata": {},
     "output_type": "execute_result"
    },
    {
     "data": {
      "image/png": "[encoded data removed]",
      "text/plain": [
       "<Figure size 640x480 with 1 Axes>"
      ]
     },
     "metadata": {},
     "output_type": "display_data"
    }
   ],
   "source": [
    "import matplotlib.pyplot as plt\n",
    "val_loss = history_small_model.history[\"val_loss\"]\n",
    "epochs = range(1, 21)\n",
    "plt.plot(epochs, val_loss, \"b--\",\n",
    "         label=\"Validation loss\")\n",
    "plt.title(\"Effect of insufficient model capacity on validation loss\")\n",
    "plt.xlabel(\"Epochs\")\n",
    "plt.ylabel(\"Loss\")\n",
    "plt.legend()"
   ]
  },
  {
   "cell_type": "code",
   "execution_count": 11,
   "metadata": {
    "colab_type": "code"
   },
   "outputs": [
    {
     "name": "stdout",
     "output_type": "stream",
     "text": [
      "Epoch 1/20\n",
      "375/375 [==============================] - 2s 3ms/step - loss: 0.3498 - accuracy: 0.9015 - val_loss: 0.1960 - val_accuracy: 0.9447\n",
      "Epoch 2/20\n",
      "375/375 [==============================] - 1s 4ms/step - loss: 0.1561 - accuracy: 0.9542 - val_loss: 0.1535 - val_accuracy: 0.9556\n",
      "Epoch 3/20\n",
      "375/375 [==============================] - 2s 4ms/step - loss: 0.1106 - accuracy: 0.9666 - val_loss: 0.1116 - val_accuracy: 0.9668\n",
      "Epoch 4/20\n",
      "375/375 [==============================] - 1s 3ms/step - loss: 0.0852 - accuracy: 0.9747 - val_loss: 0.1079 - val_accuracy: 0.9693\n",
      "Epoch 5/20\n",
      "375/375 [==============================] - 1s 3ms/step - loss: 0.0679 - accuracy: 0.9790 - val_loss: 0.0986 - val_accuracy: 0.9726\n",
      "Epoch 6/20\n",
      "375/375 [==============================] - 1s 3ms/step - loss: 0.0564 - accuracy: 0.9831 - val_loss: 0.0971 - val_accuracy: 0.9732\n",
      "Epoch 7/20\n",
      "375/375 [==============================] - 1s 3ms/step - loss: 0.0456 - accuracy: 0.9859 - val_loss: 0.0978 - val_accuracy: 0.9747\n",
      "Epoch 8/20\n",
      "375/375 [==============================] - 1s 3ms/step - loss: 0.0393 - accuracy: 0.9879 - val_loss: 0.0958 - val_accuracy: 0.9758\n",
      "Epoch 9/20\n",
      "375/375 [==============================] - 1s 3ms/step - loss: 0.0327 - accuracy: 0.9898 - val_loss: 0.0944 - val_accuracy: 0.9750\n",
      "Epoch 10/20\n",
      "375/375 [==============================] - 2s 5ms/step - loss: 0.0268 - accuracy: 0.9916 - val_loss: 0.1123 - val_accuracy: 0.9728\n",
      "Epoch 11/20\n",
      "375/375 [==============================] - 1s 4ms/step - loss: 0.0227 - accuracy: 0.9927 - val_loss: 0.1007 - val_accuracy: 0.9764\n",
      "Epoch 12/20\n",
      "375/375 [==============================] - 1s 3ms/step - loss: 0.0194 - accuracy: 0.9938 - val_loss: 0.1097 - val_accuracy: 0.9743\n",
      "Epoch 13/20\n",
      "375/375 [==============================] - 1s 3ms/step - loss: 0.0158 - accuracy: 0.9952 - val_loss: 0.1053 - val_accuracy: 0.9760\n",
      "Epoch 14/20\n",
      "375/375 [==============================] - 1s 3ms/step - loss: 0.0134 - accuracy: 0.9959 - val_loss: 0.1143 - val_accuracy: 0.9747\n",
      "Epoch 15/20\n",
      "375/375 [==============================] - 1s 4ms/step - loss: 0.0107 - accuracy: 0.9965 - val_loss: 0.1244 - val_accuracy: 0.9740\n",
      "Epoch 16/20\n",
      "375/375 [==============================] - 1s 3ms/step - loss: 0.0094 - accuracy: 0.9971 - val_loss: 0.1311 - val_accuracy: 0.9731\n",
      "Epoch 17/20\n",
      "375/375 [==============================] - 1s 3ms/step - loss: 0.0085 - accuracy: 0.9974 - val_loss: 0.1343 - val_accuracy: 0.9752\n",
      "Epoch 18/20\n",
      "375/375 [==============================] - 1s 3ms/step - loss: 0.0067 - accuracy: 0.9980 - val_loss: 0.1377 - val_accuracy: 0.9743\n",
      "Epoch 19/20\n",
      "375/375 [==============================] - 1s 3ms/step - loss: 0.0058 - accuracy: 0.9983 - val_loss: 0.1476 - val_accuracy: 0.9750\n",
      "Epoch 20/20\n",
      "375/375 [==============================] - 1s 3ms/step - loss: 0.0054 - accuracy: 0.9981 - val_loss: 0.1629 - val_accuracy: 0.9737\n"
     ]
    }
   ],
   "source": [
    "model = keras.Sequential([\n",
    "    layers.Dense(96, activation=\"relu\"),\n",
    "    layers.Dense(96, activation=\"relu\"),\n",
    "    layers.Dense(10, activation=\"softmax\"),\n",
    "])\n",
    "model.compile(optimizer=\"rmsprop\",\n",
    "              loss=\"sparse_categorical_crossentropy\",\n",
    "              metrics=[\"accuracy\"])\n",
    "history_large_model = model.fit(\n",
    "    train_images, train_labels,\n",
    "    epochs=20,\n",
    "    batch_size=128,\n",
    "    validation_split=0.2)"
   ]
  },
  {
   "cell_type": "markdown",
   "metadata": {
    "colab_type": "text"
   },
   "source": [
    "## Improving generalization"
   ]
  },
  {
   "cell_type": "markdown",
   "metadata": {
    "colab_type": "text"
   },
   "source": [
    "### Dataset curation"
   ]
  },
  {
   "cell_type": "markdown",
   "metadata": {
    "colab_type": "text"
   },
   "source": [
    "### Feature engineering"
   ]
  },
  {
   "cell_type": "markdown",
   "metadata": {
    "colab_type": "text"
   },
   "source": [
    "### Using early stopping"
   ]
  },
  {
   "cell_type": "markdown",
   "metadata": {
    "colab_type": "text"
   },
   "source": [
    "### Regularizing your model"
   ]
  },
  {
   "cell_type": "markdown",
   "metadata": {
    "colab_type": "text"
   },
   "source": [
    "#### Reducing the network's size"
   ]
  },
  {
   "cell_type": "markdown",
   "metadata": {
    "colab_type": "text"
   },
   "source": [
    "**Original model**"
   ]
  },
  {
   "cell_type": "code",
   "execution_count": 12,
   "metadata": {
    "colab_type": "code"
   },
   "outputs": [
    {
     "name": "stdout",
     "output_type": "stream",
     "text": [
      "Downloading data from https://storage.googleapis.com/tensorflow/tf-keras-datasets/imdb.npz\n",
      "17464789/17464789 [==============================] - 60s 3us/step\n",
      "Epoch 1/20\n",
      "30/30 [==============================] - 4s 110ms/step - loss: 0.5109 - accuracy: 0.7913 - val_loss: 0.3968 - val_accuracy: 0.8590\n",
      "Epoch 2/20\n",
      "30/30 [==============================] - 1s 40ms/step - loss: 0.3088 - accuracy: 0.8996 - val_loss: 0.3494 - val_accuracy: 0.8565\n",
      "Epoch 3/20\n",
      "30/30 [==============================] - 1s 25ms/step - loss: 0.2261 - accuracy: 0.9276 - val_loss: 0.2777 - val_accuracy: 0.8932\n",
      "Epoch 4/20\n",
      "30/30 [==============================] - 1s 20ms/step - loss: 0.1776 - accuracy: 0.9430 - val_loss: 0.2754 - val_accuracy: 0.8902\n",
      "Epoch 5/20\n",
      "30/30 [==============================] - 1s 26ms/step - loss: 0.1465 - accuracy: 0.9525 - val_loss: 0.2890 - val_accuracy: 0.8860\n",
      "Epoch 6/20\n",
      "30/30 [==============================] - 1s 25ms/step - loss: 0.1215 - accuracy: 0.9617 - val_loss: 0.3312 - val_accuracy: 0.8735\n",
      "Epoch 7/20\n",
      "30/30 [==============================] - 1s 33ms/step - loss: 0.1014 - accuracy: 0.9694 - val_loss: 0.3168 - val_accuracy: 0.8824\n",
      "Epoch 8/20\n",
      "30/30 [==============================] - 1s 26ms/step - loss: 0.0842 - accuracy: 0.9748 - val_loss: 0.3299 - val_accuracy: 0.8834\n",
      "Epoch 9/20\n",
      "30/30 [==============================] - 1s 26ms/step - loss: 0.0695 - accuracy: 0.9810 - val_loss: 0.3581 - val_accuracy: 0.8791\n",
      "Epoch 10/20\n",
      "30/30 [==============================] - 1s 21ms/step - loss: 0.0597 - accuracy: 0.9836 - val_loss: 0.3733 - val_accuracy: 0.8794\n",
      "Epoch 11/20\n",
      "30/30 [==============================] - 1s 24ms/step - loss: 0.0500 - accuracy: 0.9869 - val_loss: 0.4170 - val_accuracy: 0.8754\n",
      "Epoch 12/20\n",
      "30/30 [==============================] - 1s 22ms/step - loss: 0.0381 - accuracy: 0.9916 - val_loss: 0.4284 - val_accuracy: 0.8753\n",
      "Epoch 13/20\n",
      "30/30 [==============================] - 1s 27ms/step - loss: 0.0329 - accuracy: 0.9929 - val_loss: 0.4576 - val_accuracy: 0.8739\n",
      "Epoch 14/20\n",
      "30/30 [==============================] - 1s 23ms/step - loss: 0.0269 - accuracy: 0.9943 - val_loss: 0.4908 - val_accuracy: 0.8715\n",
      "Epoch 15/20\n",
      "30/30 [==============================] - 1s 17ms/step - loss: 0.0212 - accuracy: 0.9958 - val_loss: 0.5307 - val_accuracy: 0.8696\n",
      "Epoch 16/20\n",
      "30/30 [==============================] - 1s 18ms/step - loss: 0.0187 - accuracy: 0.9964 - val_loss: 0.5593 - val_accuracy: 0.8690\n",
      "Epoch 17/20\n",
      "30/30 [==============================] - 1s 18ms/step - loss: 0.0126 - accuracy: 0.9985 - val_loss: 0.5968 - val_accuracy: 0.8675\n",
      "Epoch 18/20\n",
      "30/30 [==============================] - 1s 17ms/step - loss: 0.0105 - accuracy: 0.9987 - val_loss: 0.6214 - val_accuracy: 0.8680\n",
      "Epoch 19/20\n",
      "30/30 [==============================] - 1s 18ms/step - loss: 0.0116 - accuracy: 0.9980 - val_loss: 0.6547 - val_accuracy: 0.8668\n",
      "Epoch 20/20\n",
      "30/30 [==============================] - 1s 18ms/step - loss: 0.0050 - accuracy: 0.9997 - val_loss: 0.6818 - val_accuracy: 0.8642\n"
     ]
    }
   ],
   "source": [
    "from tensorflow.keras.datasets import imdb\n",
    "(train_data, train_labels), _ = imdb.load_data(num_words=10000)\n",
    "\n",
    "def vectorize_sequences(sequences, dimension=10000):\n",
    "    results = np.zeros((len(sequences), dimension))\n",
    "    for i, sequence in enumerate(sequences):\n",
    "        results[i, sequence] = 1.\n",
    "    return results\n",
    "train_data = vectorize_sequences(train_data)\n",
    "\n",
    "model = keras.Sequential([\n",
    "    layers.Dense(16, activation=\"relu\"),\n",
    "    layers.Dense(16, activation=\"relu\"),\n",
    "    layers.Dense(1, activation=\"sigmoid\")\n",
    "])\n",
    "model.compile(optimizer=\"rmsprop\",\n",
    "              loss=\"binary_crossentropy\",\n",
    "              metrics=[\"accuracy\"])\n",
    "history_original = model.fit(train_data, train_labels,\n",
    "                             epochs=20, batch_size=512, validation_split=0.4)"
   ]
  },
  {
   "cell_type": "markdown",
   "metadata": {
    "colab_type": "text"
   },
   "source": [
    "**Version of the model with lower capacity**"
   ]
  },
  {
   "cell_type": "code",
   "execution_count": 13,
   "metadata": {
    "colab_type": "code"
   },
   "outputs": [
    {
     "name": "stdout",
     "output_type": "stream",
     "text": [
      "Epoch 1/20\n",
      "30/30 [==============================] - 4s 91ms/step - loss: 0.5967 - accuracy: 0.7472 - val_loss: 0.5103 - val_accuracy: 0.8547\n",
      "Epoch 2/20\n",
      "30/30 [==============================] - 1s 33ms/step - loss: 0.4435 - accuracy: 0.8807 - val_loss: 0.4156 - val_accuracy: 0.8745\n",
      "Epoch 3/20\n",
      "30/30 [==============================] - 1s 18ms/step - loss: 0.3524 - accuracy: 0.9063 - val_loss: 0.3584 - val_accuracy: 0.8843\n",
      "Epoch 4/20\n",
      "30/30 [==============================] - 0s 14ms/step - loss: 0.2885 - accuracy: 0.9207 - val_loss: 0.3245 - val_accuracy: 0.8856\n",
      "Epoch 5/20\n",
      "30/30 [==============================] - 0s 14ms/step - loss: 0.2433 - accuracy: 0.9315 - val_loss: 0.2951 - val_accuracy: 0.8915\n",
      "Epoch 6/20\n",
      "30/30 [==============================] - 0s 14ms/step - loss: 0.2093 - accuracy: 0.9381 - val_loss: 0.2827 - val_accuracy: 0.8914\n",
      "Epoch 7/20\n",
      "30/30 [==============================] - 0s 14ms/step - loss: 0.1828 - accuracy: 0.9457 - val_loss: 0.2762 - val_accuracy: 0.8932\n",
      "Epoch 8/20\n",
      "30/30 [==============================] - 0s 14ms/step - loss: 0.1614 - accuracy: 0.9530 - val_loss: 0.2772 - val_accuracy: 0.8908\n",
      "Epoch 9/20\n",
      "30/30 [==============================] - 0s 15ms/step - loss: 0.1437 - accuracy: 0.9588 - val_loss: 0.2768 - val_accuracy: 0.8912\n",
      "Epoch 10/20\n",
      "30/30 [==============================] - 0s 15ms/step - loss: 0.1285 - accuracy: 0.9630 - val_loss: 0.2877 - val_accuracy: 0.8878\n",
      "Epoch 11/20\n",
      "30/30 [==============================] - 0s 16ms/step - loss: 0.1154 - accuracy: 0.9683 - val_loss: 0.2873 - val_accuracy: 0.8898\n",
      "Epoch 12/20\n",
      "30/30 [==============================] - 0s 14ms/step - loss: 0.1036 - accuracy: 0.9715 - val_loss: 0.2960 - val_accuracy: 0.8863\n",
      "Epoch 13/20\n",
      "30/30 [==============================] - 0s 14ms/step - loss: 0.0927 - accuracy: 0.9745 - val_loss: 0.3074 - val_accuracy: 0.8871\n",
      "Epoch 14/20\n",
      "30/30 [==============================] - 0s 15ms/step - loss: 0.0833 - accuracy: 0.9782 - val_loss: 0.3215 - val_accuracy: 0.8832\n",
      "Epoch 15/20\n",
      "30/30 [==============================] - 0s 15ms/step - loss: 0.0747 - accuracy: 0.9816 - val_loss: 0.3431 - val_accuracy: 0.8784\n",
      "Epoch 16/20\n",
      "30/30 [==============================] - 0s 15ms/step - loss: 0.0672 - accuracy: 0.9841 - val_loss: 0.3455 - val_accuracy: 0.8820\n",
      "Epoch 17/20\n",
      "30/30 [==============================] - 0s 15ms/step - loss: 0.0602 - accuracy: 0.9856 - val_loss: 0.3602 - val_accuracy: 0.8821\n",
      "Epoch 18/20\n",
      "30/30 [==============================] - 0s 16ms/step - loss: 0.0538 - accuracy: 0.9879 - val_loss: 0.3781 - val_accuracy: 0.8799\n",
      "Epoch 19/20\n",
      "30/30 [==============================] - 1s 19ms/step - loss: 0.0478 - accuracy: 0.9902 - val_loss: 0.3985 - val_accuracy: 0.8775\n",
      "Epoch 20/20\n",
      "30/30 [==============================] - 1s 19ms/step - loss: 0.0428 - accuracy: 0.9914 - val_loss: 0.4126 - val_accuracy: 0.8752\n"
     ]
    }
   ],
   "source": [
    "model = keras.Sequential([\n",
    "    layers.Dense(4, activation=\"relu\"),\n",
    "    layers.Dense(4, activation=\"relu\"),\n",
    "    layers.Dense(1, activation=\"sigmoid\")\n",
    "])\n",
    "model.compile(optimizer=\"rmsprop\",\n",
    "              loss=\"binary_crossentropy\",\n",
    "              metrics=[\"accuracy\"])\n",
    "history_smaller_model = model.fit(\n",
    "    train_data, train_labels,\n",
    "    epochs=20, batch_size=512, validation_split=0.4)"
   ]
  },
  {
   "cell_type": "markdown",
   "metadata": {
    "colab_type": "text"
   },
   "source": [
    "**Version of the model with higher capacity**"
   ]
  },
  {
   "cell_type": "code",
   "execution_count": 14,
   "metadata": {
    "colab_type": "code"
   },
   "outputs": [
    {
     "name": "stdout",
     "output_type": "stream",
     "text": [
      "Epoch 1/20\n",
      "30/30 [==============================] - 8s 214ms/step - loss: 0.5565 - accuracy: 0.7379 - val_loss: 0.3006 - val_accuracy: 0.8846\n",
      "Epoch 2/20\n",
      "30/30 [==============================] - 5s 165ms/step - loss: 0.2517 - accuracy: 0.9034 - val_loss: 0.3044 - val_accuracy: 0.8753\n",
      "Epoch 3/20\n",
      "30/30 [==============================] - 4s 134ms/step - loss: 0.1344 - accuracy: 0.9491 - val_loss: 0.6663 - val_accuracy: 0.7887\n",
      "Epoch 4/20\n",
      "30/30 [==============================] - 4s 134ms/step - loss: 0.1240 - accuracy: 0.9537 - val_loss: 0.2892 - val_accuracy: 0.8903\n",
      "Epoch 5/20\n",
      "30/30 [==============================] - 4s 135ms/step - loss: 0.0189 - accuracy: 0.9961 - val_loss: 0.7694 - val_accuracy: 0.8142\n",
      "Epoch 6/20\n",
      "30/30 [==============================] - 4s 145ms/step - loss: 0.0424 - accuracy: 0.9867 - val_loss: 0.4832 - val_accuracy: 0.8902\n",
      "Epoch 7/20\n",
      "30/30 [==============================] - 5s 148ms/step - loss: 9.6336e-04 - accuracy: 0.9999 - val_loss: 0.6226 - val_accuracy: 0.8872\n",
      "Epoch 8/20\n",
      "30/30 [==============================] - 5s 151ms/step - loss: 0.2055 - accuracy: 0.9793 - val_loss: 0.5129 - val_accuracy: 0.8859\n",
      "Epoch 9/20\n",
      "30/30 [==============================] - 4s 142ms/step - loss: 8.4150e-04 - accuracy: 0.9999 - val_loss: 0.5855 - val_accuracy: 0.8877\n",
      "Epoch 10/20\n",
      "30/30 [==============================] - 5s 155ms/step - loss: 1.5476e-04 - accuracy: 1.0000 - val_loss: 0.6634 - val_accuracy: 0.8882\n",
      "Epoch 11/20\n",
      "30/30 [==============================] - 4s 146ms/step - loss: 4.5240e-05 - accuracy: 1.0000 - val_loss: 0.7390 - val_accuracy: 0.8876\n",
      "Epoch 12/20\n",
      "30/30 [==============================] - 4s 148ms/step - loss: 1.2971e-05 - accuracy: 1.0000 - val_loss: 0.8166 - val_accuracy: 0.8874\n",
      "Epoch 13/20\n",
      "30/30 [==============================] - 5s 152ms/step - loss: 3.7271e-06 - accuracy: 1.0000 - val_loss: 0.9071 - val_accuracy: 0.8863\n",
      "Epoch 14/20\n",
      "30/30 [==============================] - 4s 146ms/step - loss: 1.1074e-06 - accuracy: 1.0000 - val_loss: 0.9870 - val_accuracy: 0.8861\n",
      "Epoch 15/20\n",
      "30/30 [==============================] - 5s 151ms/step - loss: 3.5572e-07 - accuracy: 1.0000 - val_loss: 1.0602 - val_accuracy: 0.8860\n",
      "Epoch 16/20\n",
      "30/30 [==============================] - 4s 148ms/step - loss: 1.2965e-07 - accuracy: 1.0000 - val_loss: 1.1303 - val_accuracy: 0.8862\n",
      "Epoch 17/20\n",
      "30/30 [==============================] - 5s 175ms/step - loss: 5.6367e-08 - accuracy: 1.0000 - val_loss: 1.1831 - val_accuracy: 0.8861\n",
      "Epoch 18/20\n",
      "30/30 [==============================] - 6s 197ms/step - loss: 2.9960e-08 - accuracy: 1.0000 - val_loss: 1.2156 - val_accuracy: 0.8870\n",
      "Epoch 19/20\n",
      "30/30 [==============================] - 7s 230ms/step - loss: 1.9510e-08 - accuracy: 1.0000 - val_loss: 1.2387 - val_accuracy: 0.8868\n",
      "Epoch 20/20\n",
      "30/30 [==============================] - 5s 174ms/step - loss: 1.4373e-08 - accuracy: 1.0000 - val_loss: 1.2571 - val_accuracy: 0.8863\n"
     ]
    }
   ],
   "source": [
    "model = keras.Sequential([\n",
    "    layers.Dense(512, activation=\"relu\"),\n",
    "    layers.Dense(512, activation=\"relu\"),\n",
    "    layers.Dense(1, activation=\"sigmoid\")\n",
    "])\n",
    "model.compile(optimizer=\"rmsprop\",\n",
    "              loss=\"binary_crossentropy\",\n",
    "              metrics=[\"accuracy\"])\n",
    "history_larger_model = model.fit(\n",
    "    train_data, train_labels,\n",
    "    epochs=20, batch_size=512, validation_split=0.4)"
   ]
  },
  {
   "cell_type": "markdown",
   "metadata": {
    "colab_type": "text"
   },
   "source": [
    "#### Adding weight regularization"
   ]
  },
  {
   "cell_type": "markdown",
   "metadata": {
    "colab_type": "text"
   },
   "source": [
    "**Adding L2 weight regularization to the model**"
   ]
  },
  {
   "cell_type": "code",
   "execution_count": 15,
   "metadata": {
    "colab_type": "code"
   },
   "outputs": [
    {
     "name": "stdout",
     "output_type": "stream",
     "text": [
      "Epoch 1/20\n",
      "30/30 [==============================] - 5s 118ms/step - loss: 0.5885 - accuracy: 0.7896 - val_loss: 0.4667 - val_accuracy: 0.8711\n",
      "Epoch 2/20\n",
      "30/30 [==============================] - 1s 38ms/step - loss: 0.4046 - accuracy: 0.8967 - val_loss: 0.3943 - val_accuracy: 0.8852\n",
      "Epoch 3/20\n",
      "30/30 [==============================] - 1s 27ms/step - loss: 0.3449 - accuracy: 0.9093 - val_loss: 0.3712 - val_accuracy: 0.8882\n",
      "Epoch 4/20\n",
      "30/30 [==============================] - 1s 24ms/step - loss: 0.3084 - accuracy: 0.9230 - val_loss: 0.3699 - val_accuracy: 0.8812\n",
      "Epoch 5/20\n",
      "30/30 [==============================] - 1s 23ms/step - loss: 0.2907 - accuracy: 0.9283 - val_loss: 0.3680 - val_accuracy: 0.8828\n",
      "Epoch 6/20\n",
      "30/30 [==============================] - 1s 24ms/step - loss: 0.2743 - accuracy: 0.9332 - val_loss: 0.3781 - val_accuracy: 0.8742\n",
      "Epoch 7/20\n",
      "30/30 [==============================] - 1s 23ms/step - loss: 0.2654 - accuracy: 0.9364 - val_loss: 0.3620 - val_accuracy: 0.8852\n",
      "Epoch 8/20\n",
      "30/30 [==============================] - 1s 23ms/step - loss: 0.2554 - accuracy: 0.9397 - val_loss: 0.3646 - val_accuracy: 0.8830\n",
      "Epoch 9/20\n",
      "30/30 [==============================] - 1s 26ms/step - loss: 0.2533 - accuracy: 0.9383 - val_loss: 0.3893 - val_accuracy: 0.8752\n",
      "Epoch 10/20\n",
      "30/30 [==============================] - 1s 29ms/step - loss: 0.2393 - accuracy: 0.9473 - val_loss: 0.3774 - val_accuracy: 0.8805\n",
      "Epoch 11/20\n",
      "30/30 [==============================] - 1s 23ms/step - loss: 0.2424 - accuracy: 0.9445 - val_loss: 0.3805 - val_accuracy: 0.8794\n",
      "Epoch 12/20\n",
      "30/30 [==============================] - 1s 25ms/step - loss: 0.2364 - accuracy: 0.9452 - val_loss: 0.3783 - val_accuracy: 0.8802\n",
      "Epoch 13/20\n",
      "30/30 [==============================] - 1s 31ms/step - loss: 0.2272 - accuracy: 0.9505 - val_loss: 0.4046 - val_accuracy: 0.8744\n",
      "Epoch 14/20\n",
      "30/30 [==============================] - 1s 26ms/step - loss: 0.2271 - accuracy: 0.9500 - val_loss: 0.3884 - val_accuracy: 0.8784\n",
      "Epoch 15/20\n",
      "30/30 [==============================] - 1s 25ms/step - loss: 0.2236 - accuracy: 0.9518 - val_loss: 0.3961 - val_accuracy: 0.8765\n",
      "Epoch 16/20\n",
      "30/30 [==============================] - 1s 28ms/step - loss: 0.2245 - accuracy: 0.9498 - val_loss: 0.3974 - val_accuracy: 0.8755\n",
      "Epoch 17/20\n",
      "30/30 [==============================] - 1s 26ms/step - loss: 0.2183 - accuracy: 0.9543 - val_loss: 0.3942 - val_accuracy: 0.8794\n",
      "Epoch 18/20\n",
      "30/30 [==============================] - 1s 24ms/step - loss: 0.2147 - accuracy: 0.9553 - val_loss: 0.4349 - val_accuracy: 0.8665\n",
      "Epoch 19/20\n",
      "30/30 [==============================] - 1s 26ms/step - loss: 0.2182 - accuracy: 0.9521 - val_loss: 0.4078 - val_accuracy: 0.8771\n",
      "Epoch 20/20\n",
      "30/30 [==============================] - 1s 23ms/step - loss: 0.2101 - accuracy: 0.9573 - val_loss: 0.4689 - val_accuracy: 0.8606\n"
     ]
    }
   ],
   "source": [
    "from tensorflow.keras import regularizers\n",
    "model = keras.Sequential([\n",
    "    layers.Dense(16,\n",
    "                 kernel_regularizer=regularizers.l2(0.002),\n",
    "                 activation=\"relu\"),\n",
    "    layers.Dense(16,\n",
    "                 kernel_regularizer=regularizers.l2(0.002),\n",
    "                 activation=\"relu\"),\n",
    "    layers.Dense(1, activation=\"sigmoid\")\n",
    "])\n",
    "model.compile(optimizer=\"rmsprop\",\n",
    "              loss=\"binary_crossentropy\",\n",
    "              metrics=[\"accuracy\"])\n",
    "history_l2_reg = model.fit(\n",
    "    train_data, train_labels,\n",
    "    epochs=20, batch_size=512, validation_split=0.4)"
   ]
  },
  {
   "cell_type": "markdown",
   "metadata": {
    "colab_type": "text"
   },
   "source": [
    "**Different weight regularizers available in Keras**"
   ]
  },
  {
   "cell_type": "code",
   "execution_count": 16,
   "metadata": {
    "colab_type": "code"
   },
   "outputs": [
    {
     "data": {
      "text/plain": [
       "<keras.regularizers.L1L2 at 0x7fb97ceb89d0>"
      ]
     },
     "execution_count": 16,
     "metadata": {},
     "output_type": "execute_result"
    }
   ],
   "source": [
    "from tensorflow.keras import regularizers\n",
    "regularizers.l1(0.001)\n",
    "regularizers.l1_l2(l1=0.001, l2=0.001)"
   ]
  },
  {
   "cell_type": "markdown",
   "metadata": {
    "colab_type": "text"
   },
   "source": [
    "#### Adding dropout"
   ]
  },
  {
   "cell_type": "markdown",
   "metadata": {
    "colab_type": "text"
   },
   "source": [
    "**Adding dropout to the IMDB model**"
   ]
  },
  {
   "cell_type": "code",
   "execution_count": 17,
   "metadata": {
    "colab_type": "code"
   },
   "outputs": [
    {
     "name": "stdout",
     "output_type": "stream",
     "text": [
      "Epoch 1/20\n",
      "30/30 [==============================] - 5s 105ms/step - loss: 0.6184 - accuracy: 0.6482 - val_loss: 0.4845 - val_accuracy: 0.8521\n",
      "Epoch 2/20\n",
      "30/30 [==============================] - 1s 44ms/step - loss: 0.4880 - accuracy: 0.7722 - val_loss: 0.3885 - val_accuracy: 0.8718\n",
      "Epoch 3/20\n",
      "30/30 [==============================] - 1s 26ms/step - loss: 0.4168 - accuracy: 0.8211 - val_loss: 0.3291 - val_accuracy: 0.8841\n",
      "Epoch 4/20\n",
      "30/30 [==============================] - 1s 23ms/step - loss: 0.3600 - accuracy: 0.8501 - val_loss: 0.2966 - val_accuracy: 0.8889\n",
      "Epoch 5/20\n",
      "30/30 [==============================] - 1s 21ms/step - loss: 0.3108 - accuracy: 0.8793 - val_loss: 0.2825 - val_accuracy: 0.8879\n",
      "Epoch 6/20\n",
      "30/30 [==============================] - 1s 21ms/step - loss: 0.2742 - accuracy: 0.8969 - val_loss: 0.2796 - val_accuracy: 0.8881\n",
      "Epoch 7/20\n",
      "30/30 [==============================] - 1s 20ms/step - loss: 0.2467 - accuracy: 0.9123 - val_loss: 0.2757 - val_accuracy: 0.8929\n",
      "Epoch 8/20\n",
      "30/30 [==============================] - 1s 20ms/step - loss: 0.2205 - accuracy: 0.9219 - val_loss: 0.2823 - val_accuracy: 0.8908\n",
      "Epoch 9/20\n",
      "30/30 [==============================] - 1s 21ms/step - loss: 0.1937 - accuracy: 0.9405 - val_loss: 0.3062 - val_accuracy: 0.8879\n",
      "Epoch 10/20\n",
      "30/30 [==============================] - 1s 24ms/step - loss: 0.1775 - accuracy: 0.9445 - val_loss: 0.3205 - val_accuracy: 0.8884\n",
      "Epoch 11/20\n",
      "30/30 [==============================] - 1s 21ms/step - loss: 0.1559 - accuracy: 0.9543 - val_loss: 0.3325 - val_accuracy: 0.8879\n",
      "Epoch 12/20\n",
      "30/30 [==============================] - 1s 20ms/step - loss: 0.1443 - accuracy: 0.9578 - val_loss: 0.3483 - val_accuracy: 0.8886\n",
      "Epoch 13/20\n",
      "30/30 [==============================] - 1s 19ms/step - loss: 0.1270 - accuracy: 0.9625 - val_loss: 0.3900 - val_accuracy: 0.8888\n",
      "Epoch 14/20\n",
      "30/30 [==============================] - 1s 20ms/step - loss: 0.1224 - accuracy: 0.9630 - val_loss: 0.4041 - val_accuracy: 0.8866\n",
      "Epoch 15/20\n",
      "30/30 [==============================] - 1s 21ms/step - loss: 0.1120 - accuracy: 0.9659 - val_loss: 0.4300 - val_accuracy: 0.8869\n",
      "Epoch 16/20\n",
      "30/30 [==============================] - 1s 23ms/step - loss: 0.0970 - accuracy: 0.9698 - val_loss: 0.4552 - val_accuracy: 0.8864\n",
      "Epoch 17/20\n",
      "30/30 [==============================] - 1s 20ms/step - loss: 0.0952 - accuracy: 0.9713 - val_loss: 0.4816 - val_accuracy: 0.8852\n",
      "Epoch 18/20\n",
      "30/30 [==============================] - 1s 20ms/step - loss: 0.0905 - accuracy: 0.9719 - val_loss: 0.4959 - val_accuracy: 0.8848\n",
      "Epoch 19/20\n",
      "30/30 [==============================] - 1s 20ms/step - loss: 0.0869 - accuracy: 0.9725 - val_loss: 0.5166 - val_accuracy: 0.8822\n",
      "Epoch 20/20\n",
      "30/30 [==============================] - 1s 20ms/step - loss: 0.0840 - accuracy: 0.9747 - val_loss: 0.5560 - val_accuracy: 0.8850\n"
     ]
    }
   ],
   "source": [
    "model = keras.Sequential([\n",
    "    layers.Dense(16, activation=\"relu\"),\n",
    "    layers.Dropout(0.5),\n",
    "    layers.Dense(16, activation=\"relu\"),\n",
    "    layers.Dropout(0.5),\n",
    "    layers.Dense(1, activation=\"sigmoid\")\n",
    "])\n",
    "model.compile(optimizer=\"rmsprop\",\n",
    "              loss=\"binary_crossentropy\",\n",
    "              metrics=[\"accuracy\"])\n",
    "history_dropout = model.fit(\n",
    "    train_data, train_labels,\n",
    "    epochs=20, batch_size=512, validation_split=0.4)"
   ]
  },
  {
   "cell_type": "markdown",
   "metadata": {
    "colab_type": "text"
   },
   "source": [
    "## Summary"
   ]
  }
 ],
 "metadata": {
  "colab": {
   "collapsed_sections": [],
   "name": "chapter05_fundamentals-of-ml.i",
   "private_outputs": false,
   "provenance": [],
   "toc_visible": true
  },
  "kernelspec": {
   "display_name": "Python 3 (ipykernel)",
   "language": "python",
   "name": "python3"
  },
  "language_info": {
   "codemirror_mode": {
    "name": "ipython",
    "version": 3
   },
   "file_extension": ".py",
   "mimetype": "text/x-python",
   "name": "python",
   "nbconvert_exporter": "python",
   "pygments_lexer": "ipython3",
   "version": "3.9.13"
  }
 },
 "nbformat": 4,
 "nbformat_minor": 4
}
